{
  "metadata": {
    "kernelspec": {
      "name": "python",
      "display_name": "Pyolite",
      "language": "python"
    },
    "language_info": {
      "codemirror_mode": {
        "name": "python",
        "version": 3
      },
      "file_extension": ".py",
      "mimetype": "text/x-python",
      "name": "python",
      "nbconvert_exporter": "python",
      "pygments_lexer": "ipython3",
      "version": "3.8"
    },
    "toc": {
      "base_numbering": 1,
      "nav_menu": {},
      "number_sections": true,
      "sideBar": true,
      "skip_h1_title": false,
      "title_cell": "Table of Contents",
      "title_sidebar": "Contents",
      "toc_cell": false,
      "toc_position": {},
      "toc_section_display": true,
      "toc_window_display": false
    }
  },
  "nbformat_minor": 5,
  "nbformat": 4,
  "cells": [
    {
      "cell_type": "code",
      "source": "import pandas as pd\nimport numpy as np\nimport matplotlib.pyplot as plt\n%matplotlib inline\nimport seaborn as sns\nsns.set()",
      "metadata": {
        "trusted": true
      },
      "execution_count": 27,
      "outputs": [
        {
          "ename": "<class 'ModuleNotFoundError'>",
          "evalue": "No module named 'seaborn'",
          "traceback": [
            "\u001b[0;31m---------------------------------------------------------------------------\u001b[0m",
            "\u001b[0;31mModuleNotFoundError\u001b[0m                       Traceback (most recent call last)",
            "Input \u001b[0;32mIn [27]\u001b[0m, in \u001b[0;36m<cell line: 4>\u001b[0;34m()\u001b[0m\n\u001b[1;32m      2\u001b[0m \u001b[38;5;28;01mimport\u001b[39;00m \u001b[38;5;21;01mnumpy\u001b[39;00m \u001b[38;5;28;01mas\u001b[39;00m \u001b[38;5;21;01mnp\u001b[39;00m\n\u001b[1;32m      3\u001b[0m \u001b[38;5;28;01mimport\u001b[39;00m \u001b[38;5;21;01mmatplotlib\u001b[39;00m\u001b[38;5;21;01m.\u001b[39;00m\u001b[38;5;21;01mpyplot\u001b[39;00m \u001b[38;5;28;01mas\u001b[39;00m \u001b[38;5;21;01mplt\u001b[39;00m\n\u001b[0;32m----> 4\u001b[0m \u001b[38;5;28;01mimport\u001b[39;00m \u001b[38;5;21;01mseaborn\u001b[39;00m \u001b[38;5;28;01mas\u001b[39;00m \u001b[38;5;21;01msns\u001b[39;00m\n\u001b[1;32m      5\u001b[0m \u001b[38;5;28;01mfrom\u001b[39;00m \u001b[38;5;21;01msklearn\u001b[39;00m\u001b[38;5;21;01m.\u001b[39;00m\u001b[38;5;21;01mlinear_model\u001b[39;00m \u001b[38;5;28;01mimport\u001b[39;00m LogisticRegression\n\u001b[1;32m      6\u001b[0m \u001b[38;5;28;01mfrom\u001b[39;00m \u001b[38;5;21;01msklearn\u001b[39;00m\u001b[38;5;21;01m.\u001b[39;00m\u001b[38;5;21;01mensemble\u001b[39;00m \u001b[38;5;28;01mimport\u001b[39;00m RandomForestClassifier\n",
            "\u001b[0;31mModuleNotFoundError\u001b[0m: No module named 'seaborn'"
          ],
          "output_type": "error"
        }
      ],
      "id": "b489cb9e"
    },
    {
      "cell_type": "markdown",
      "source": "# Context",
      "metadata": {},
      "id": "d07912a0"
    },
    {
      "cell_type": "code",
      "source": "train = pd.read_csv('train.csv')\ntest = pd.read_csv('test.csv')",
      "metadata": {
        "trusted": true
      },
      "execution_count": 24,
      "outputs": [
        {
          "ename": "<class 'FileNotFoundError'>",
          "evalue": "[Errno 44] No such file or directory: 'train.csv'",
          "traceback": [
            "\u001b[0;31m---------------------------------------------------------------------------\u001b[0m",
            "\u001b[0;31mFileNotFoundError\u001b[0m                         Traceback (most recent call last)",
            "Input \u001b[0;32mIn [24]\u001b[0m, in \u001b[0;36m<cell line: 1>\u001b[0;34m()\u001b[0m\n\u001b[0;32m----> 1\u001b[0m train \u001b[38;5;241m=\u001b[39m \u001b[43mpd\u001b[49m\u001b[38;5;241;43m.\u001b[39;49m\u001b[43mread_csv\u001b[49m\u001b[43m(\u001b[49m\u001b[38;5;124;43m'\u001b[39;49m\u001b[38;5;124;43mtrain.csv\u001b[39;49m\u001b[38;5;124;43m'\u001b[39;49m\u001b[43m)\u001b[49m \n\u001b[1;32m      2\u001b[0m test \u001b[38;5;241m=\u001b[39m pd\u001b[38;5;241m.\u001b[39mread_csv(\u001b[38;5;124m'\u001b[39m\u001b[38;5;124mtest.csv\u001b[39m\u001b[38;5;124m'\u001b[39m)\n",
            "File \u001b[0;32m/lib/python3.9/site-packages/pandas/util/_decorators.py:311\u001b[0m, in \u001b[0;36mdeprecate_nonkeyword_arguments.<locals>.decorate.<locals>.wrapper\u001b[0;34m(*args, **kwargs)\u001b[0m\n\u001b[1;32m    305\u001b[0m \u001b[38;5;28;01mif\u001b[39;00m \u001b[38;5;28mlen\u001b[39m(args) \u001b[38;5;241m>\u001b[39m num_allow_args:\n\u001b[1;32m    306\u001b[0m     warnings\u001b[38;5;241m.\u001b[39mwarn(\n\u001b[1;32m    307\u001b[0m         msg\u001b[38;5;241m.\u001b[39mformat(arguments\u001b[38;5;241m=\u001b[39marguments),\n\u001b[1;32m    308\u001b[0m         \u001b[38;5;167;01mFutureWarning\u001b[39;00m,\n\u001b[1;32m    309\u001b[0m         stacklevel\u001b[38;5;241m=\u001b[39mstacklevel,\n\u001b[1;32m    310\u001b[0m     )\n\u001b[0;32m--> 311\u001b[0m \u001b[38;5;28;01mreturn\u001b[39;00m func(\u001b[38;5;241m*\u001b[39margs, \u001b[38;5;241m*\u001b[39m\u001b[38;5;241m*\u001b[39mkwargs)\n",
            "File \u001b[0;32m/lib/python3.9/site-packages/pandas/io/parsers/readers.py:586\u001b[0m, in \u001b[0;36mread_csv\u001b[0;34m(filepath_or_buffer, sep, delimiter, header, names, index_col, usecols, squeeze, prefix, mangle_dupe_cols, dtype, engine, converters, true_values, false_values, skipinitialspace, skiprows, skipfooter, nrows, na_values, keep_default_na, na_filter, verbose, skip_blank_lines, parse_dates, infer_datetime_format, keep_date_col, date_parser, dayfirst, cache_dates, iterator, chunksize, compression, thousands, decimal, lineterminator, quotechar, quoting, doublequote, escapechar, comment, encoding, encoding_errors, dialect, error_bad_lines, warn_bad_lines, on_bad_lines, delim_whitespace, low_memory, memory_map, float_precision, storage_options)\u001b[0m\n\u001b[1;32m    571\u001b[0m kwds_defaults \u001b[38;5;241m=\u001b[39m _refine_defaults_read(\n\u001b[1;32m    572\u001b[0m     dialect,\n\u001b[1;32m    573\u001b[0m     delimiter,\n\u001b[0;32m   (...)\u001b[0m\n\u001b[1;32m    582\u001b[0m     defaults\u001b[38;5;241m=\u001b[39m{\u001b[38;5;124m\"\u001b[39m\u001b[38;5;124mdelimiter\u001b[39m\u001b[38;5;124m\"\u001b[39m: \u001b[38;5;124m\"\u001b[39m\u001b[38;5;124m,\u001b[39m\u001b[38;5;124m\"\u001b[39m},\n\u001b[1;32m    583\u001b[0m )\n\u001b[1;32m    584\u001b[0m kwds\u001b[38;5;241m.\u001b[39mupdate(kwds_defaults)\n\u001b[0;32m--> 586\u001b[0m \u001b[38;5;28;01mreturn\u001b[39;00m \u001b[43m_read\u001b[49m\u001b[43m(\u001b[49m\u001b[43mfilepath_or_buffer\u001b[49m\u001b[43m,\u001b[49m\u001b[43m \u001b[49m\u001b[43mkwds\u001b[49m\u001b[43m)\u001b[49m\n",
            "File \u001b[0;32m/lib/python3.9/site-packages/pandas/io/parsers/readers.py:482\u001b[0m, in \u001b[0;36m_read\u001b[0;34m(filepath_or_buffer, kwds)\u001b[0m\n\u001b[1;32m    479\u001b[0m _validate_names(kwds\u001b[38;5;241m.\u001b[39mget(\u001b[38;5;124m\"\u001b[39m\u001b[38;5;124mnames\u001b[39m\u001b[38;5;124m\"\u001b[39m, \u001b[38;5;28;01mNone\u001b[39;00m))\n\u001b[1;32m    481\u001b[0m \u001b[38;5;66;03m# Create the parser.\u001b[39;00m\n\u001b[0;32m--> 482\u001b[0m parser \u001b[38;5;241m=\u001b[39m TextFileReader(filepath_or_buffer, \u001b[38;5;241m*\u001b[39m\u001b[38;5;241m*\u001b[39mkwds)\n\u001b[1;32m    484\u001b[0m \u001b[38;5;28;01mif\u001b[39;00m chunksize \u001b[38;5;129;01mor\u001b[39;00m iterator:\n\u001b[1;32m    485\u001b[0m     \u001b[38;5;28;01mreturn\u001b[39;00m parser\n",
            "File \u001b[0;32m/lib/python3.9/site-packages/pandas/io/parsers/readers.py:811\u001b[0m, in \u001b[0;36mTextFileReader.__init__\u001b[0;34m(self, f, engine, **kwds)\u001b[0m\n\u001b[1;32m    808\u001b[0m \u001b[38;5;28;01mif\u001b[39;00m \u001b[38;5;124m\"\u001b[39m\u001b[38;5;124mhas_index_names\u001b[39m\u001b[38;5;124m\"\u001b[39m \u001b[38;5;129;01min\u001b[39;00m kwds:\n\u001b[1;32m    809\u001b[0m     \u001b[38;5;28mself\u001b[39m\u001b[38;5;241m.\u001b[39moptions[\u001b[38;5;124m\"\u001b[39m\u001b[38;5;124mhas_index_names\u001b[39m\u001b[38;5;124m\"\u001b[39m] \u001b[38;5;241m=\u001b[39m kwds[\u001b[38;5;124m\"\u001b[39m\u001b[38;5;124mhas_index_names\u001b[39m\u001b[38;5;124m\"\u001b[39m]\n\u001b[0;32m--> 811\u001b[0m \u001b[38;5;28mself\u001b[39m\u001b[38;5;241m.\u001b[39m_engine \u001b[38;5;241m=\u001b[39m \u001b[38;5;28;43mself\u001b[39;49m\u001b[38;5;241;43m.\u001b[39;49m\u001b[43m_make_engine\u001b[49m\u001b[43m(\u001b[49m\u001b[38;5;28;43mself\u001b[39;49m\u001b[38;5;241;43m.\u001b[39;49m\u001b[43mengine\u001b[49m\u001b[43m)\u001b[49m\n",
            "File \u001b[0;32m/lib/python3.9/site-packages/pandas/io/parsers/readers.py:1040\u001b[0m, in \u001b[0;36mTextFileReader._make_engine\u001b[0;34m(self, engine)\u001b[0m\n\u001b[1;32m   1036\u001b[0m     \u001b[38;5;28;01mraise\u001b[39;00m \u001b[38;5;167;01mValueError\u001b[39;00m(\n\u001b[1;32m   1037\u001b[0m         \u001b[38;5;124mf\u001b[39m\u001b[38;5;124m\"\u001b[39m\u001b[38;5;124mUnknown engine: \u001b[39m\u001b[38;5;132;01m{\u001b[39;00mengine\u001b[38;5;132;01m}\u001b[39;00m\u001b[38;5;124m (valid options are \u001b[39m\u001b[38;5;132;01m{\u001b[39;00mmapping\u001b[38;5;241m.\u001b[39mkeys()\u001b[38;5;132;01m}\u001b[39;00m\u001b[38;5;124m)\u001b[39m\u001b[38;5;124m\"\u001b[39m\n\u001b[1;32m   1038\u001b[0m     )\n\u001b[1;32m   1039\u001b[0m \u001b[38;5;66;03m# error: Too many arguments for \"ParserBase\"\u001b[39;00m\n\u001b[0;32m-> 1040\u001b[0m \u001b[38;5;28;01mreturn\u001b[39;00m mapping[engine](\u001b[38;5;28mself\u001b[39m\u001b[38;5;241m.\u001b[39mf, \u001b[38;5;241m*\u001b[39m\u001b[38;5;241m*\u001b[39m\u001b[38;5;28mself\u001b[39m\u001b[38;5;241m.\u001b[39moptions)\n",
            "File \u001b[0;32m/lib/python3.9/site-packages/pandas/io/parsers/c_parser_wrapper.py:51\u001b[0m, in \u001b[0;36mCParserWrapper.__init__\u001b[0;34m(self, src, **kwds)\u001b[0m\n\u001b[1;32m     48\u001b[0m kwds[\u001b[38;5;124m\"\u001b[39m\u001b[38;5;124musecols\u001b[39m\u001b[38;5;124m\"\u001b[39m] \u001b[38;5;241m=\u001b[39m \u001b[38;5;28mself\u001b[39m\u001b[38;5;241m.\u001b[39musecols\n\u001b[1;32m     50\u001b[0m \u001b[38;5;66;03m# open handles\u001b[39;00m\n\u001b[0;32m---> 51\u001b[0m \u001b[38;5;28;43mself\u001b[39;49m\u001b[38;5;241;43m.\u001b[39;49m\u001b[43m_open_handles\u001b[49m\u001b[43m(\u001b[49m\u001b[43msrc\u001b[49m\u001b[43m,\u001b[49m\u001b[43m \u001b[49m\u001b[43mkwds\u001b[49m\u001b[43m)\u001b[49m\n\u001b[1;32m     52\u001b[0m \u001b[38;5;28;01massert\u001b[39;00m \u001b[38;5;28mself\u001b[39m\u001b[38;5;241m.\u001b[39mhandles \u001b[38;5;129;01mis\u001b[39;00m \u001b[38;5;129;01mnot\u001b[39;00m \u001b[38;5;28;01mNone\u001b[39;00m\n\u001b[1;32m     54\u001b[0m \u001b[38;5;66;03m# Have to pass int, would break tests using TextReader directly otherwise :(\u001b[39;00m\n",
            "File \u001b[0;32m/lib/python3.9/site-packages/pandas/io/parsers/base_parser.py:222\u001b[0m, in \u001b[0;36mParserBase._open_handles\u001b[0;34m(self, src, kwds)\u001b[0m\n\u001b[1;32m    218\u001b[0m \u001b[38;5;28;01mdef\u001b[39;00m \u001b[38;5;21m_open_handles\u001b[39m(\u001b[38;5;28mself\u001b[39m, src: FilePathOrBuffer, kwds: \u001b[38;5;28mdict\u001b[39m[\u001b[38;5;28mstr\u001b[39m, Any]) \u001b[38;5;241m-\u001b[39m\u001b[38;5;241m>\u001b[39m \u001b[38;5;28;01mNone\u001b[39;00m:\n\u001b[1;32m    219\u001b[0m     \u001b[38;5;124;03m\"\"\"\u001b[39;00m\n\u001b[1;32m    220\u001b[0m \u001b[38;5;124;03m    Let the readers open IOHandles after they are done with their potential raises.\u001b[39;00m\n\u001b[1;32m    221\u001b[0m \u001b[38;5;124;03m    \"\"\"\u001b[39;00m\n\u001b[0;32m--> 222\u001b[0m     \u001b[38;5;28mself\u001b[39m\u001b[38;5;241m.\u001b[39mhandles \u001b[38;5;241m=\u001b[39m \u001b[43mget_handle\u001b[49m\u001b[43m(\u001b[49m\n\u001b[1;32m    223\u001b[0m \u001b[43m        \u001b[49m\u001b[43msrc\u001b[49m\u001b[43m,\u001b[49m\n\u001b[1;32m    224\u001b[0m \u001b[43m        \u001b[49m\u001b[38;5;124;43m\"\u001b[39;49m\u001b[38;5;124;43mr\u001b[39;49m\u001b[38;5;124;43m\"\u001b[39;49m\u001b[43m,\u001b[49m\n\u001b[1;32m    225\u001b[0m \u001b[43m        \u001b[49m\u001b[43mencoding\u001b[49m\u001b[38;5;241;43m=\u001b[39;49m\u001b[43mkwds\u001b[49m\u001b[38;5;241;43m.\u001b[39;49m\u001b[43mget\u001b[49m\u001b[43m(\u001b[49m\u001b[38;5;124;43m\"\u001b[39;49m\u001b[38;5;124;43mencoding\u001b[39;49m\u001b[38;5;124;43m\"\u001b[39;49m\u001b[43m,\u001b[49m\u001b[43m \u001b[49m\u001b[38;5;28;43;01mNone\u001b[39;49;00m\u001b[43m)\u001b[49m\u001b[43m,\u001b[49m\n\u001b[1;32m    226\u001b[0m \u001b[43m        \u001b[49m\u001b[43mcompression\u001b[49m\u001b[38;5;241;43m=\u001b[39;49m\u001b[43mkwds\u001b[49m\u001b[38;5;241;43m.\u001b[39;49m\u001b[43mget\u001b[49m\u001b[43m(\u001b[49m\u001b[38;5;124;43m\"\u001b[39;49m\u001b[38;5;124;43mcompression\u001b[39;49m\u001b[38;5;124;43m\"\u001b[39;49m\u001b[43m,\u001b[49m\u001b[43m \u001b[49m\u001b[38;5;28;43;01mNone\u001b[39;49;00m\u001b[43m)\u001b[49m\u001b[43m,\u001b[49m\n\u001b[1;32m    227\u001b[0m \u001b[43m        \u001b[49m\u001b[43mmemory_map\u001b[49m\u001b[38;5;241;43m=\u001b[39;49m\u001b[43mkwds\u001b[49m\u001b[38;5;241;43m.\u001b[39;49m\u001b[43mget\u001b[49m\u001b[43m(\u001b[49m\u001b[38;5;124;43m\"\u001b[39;49m\u001b[38;5;124;43mmemory_map\u001b[39;49m\u001b[38;5;124;43m\"\u001b[39;49m\u001b[43m,\u001b[49m\u001b[43m \u001b[49m\u001b[38;5;28;43;01mFalse\u001b[39;49;00m\u001b[43m)\u001b[49m\u001b[43m,\u001b[49m\n\u001b[1;32m    228\u001b[0m \u001b[43m        \u001b[49m\u001b[43mstorage_options\u001b[49m\u001b[38;5;241;43m=\u001b[39;49m\u001b[43mkwds\u001b[49m\u001b[38;5;241;43m.\u001b[39;49m\u001b[43mget\u001b[49m\u001b[43m(\u001b[49m\u001b[38;5;124;43m\"\u001b[39;49m\u001b[38;5;124;43mstorage_options\u001b[39;49m\u001b[38;5;124;43m\"\u001b[39;49m\u001b[43m,\u001b[49m\u001b[43m \u001b[49m\u001b[38;5;28;43;01mNone\u001b[39;49;00m\u001b[43m)\u001b[49m\u001b[43m,\u001b[49m\n\u001b[1;32m    229\u001b[0m \u001b[43m        \u001b[49m\u001b[43merrors\u001b[49m\u001b[38;5;241;43m=\u001b[39;49m\u001b[43mkwds\u001b[49m\u001b[38;5;241;43m.\u001b[39;49m\u001b[43mget\u001b[49m\u001b[43m(\u001b[49m\u001b[38;5;124;43m\"\u001b[39;49m\u001b[38;5;124;43mencoding_errors\u001b[39;49m\u001b[38;5;124;43m\"\u001b[39;49m\u001b[43m,\u001b[49m\u001b[43m \u001b[49m\u001b[38;5;124;43m\"\u001b[39;49m\u001b[38;5;124;43mstrict\u001b[39;49m\u001b[38;5;124;43m\"\u001b[39;49m\u001b[43m)\u001b[49m\u001b[43m,\u001b[49m\n\u001b[1;32m    230\u001b[0m \u001b[43m    \u001b[49m\u001b[43m)\u001b[49m\n",
            "File \u001b[0;32m/lib/python3.9/site-packages/pandas/io/common.py:702\u001b[0m, in \u001b[0;36mget_handle\u001b[0;34m(path_or_buf, mode, encoding, compression, memory_map, is_text, errors, storage_options)\u001b[0m\n\u001b[1;32m    697\u001b[0m \u001b[38;5;28;01melif\u001b[39;00m \u001b[38;5;28misinstance\u001b[39m(handle, \u001b[38;5;28mstr\u001b[39m):\n\u001b[1;32m    698\u001b[0m     \u001b[38;5;66;03m# Check whether the filename is to be opened in binary mode.\u001b[39;00m\n\u001b[1;32m    699\u001b[0m     \u001b[38;5;66;03m# Binary mode does not support 'encoding' and 'newline'.\u001b[39;00m\n\u001b[1;32m    700\u001b[0m     \u001b[38;5;28;01mif\u001b[39;00m ioargs\u001b[38;5;241m.\u001b[39mencoding \u001b[38;5;129;01mand\u001b[39;00m \u001b[38;5;124m\"\u001b[39m\u001b[38;5;124mb\u001b[39m\u001b[38;5;124m\"\u001b[39m \u001b[38;5;129;01mnot\u001b[39;00m \u001b[38;5;129;01min\u001b[39;00m ioargs\u001b[38;5;241m.\u001b[39mmode:\n\u001b[1;32m    701\u001b[0m         \u001b[38;5;66;03m# Encoding\u001b[39;00m\n\u001b[0;32m--> 702\u001b[0m         handle \u001b[38;5;241m=\u001b[39m \u001b[38;5;28;43mopen\u001b[39;49m\u001b[43m(\u001b[49m\n\u001b[1;32m    703\u001b[0m \u001b[43m            \u001b[49m\u001b[43mhandle\u001b[49m\u001b[43m,\u001b[49m\n\u001b[1;32m    704\u001b[0m \u001b[43m            \u001b[49m\u001b[43mioargs\u001b[49m\u001b[38;5;241;43m.\u001b[39;49m\u001b[43mmode\u001b[49m\u001b[43m,\u001b[49m\n\u001b[1;32m    705\u001b[0m \u001b[43m            \u001b[49m\u001b[43mencoding\u001b[49m\u001b[38;5;241;43m=\u001b[39;49m\u001b[43mioargs\u001b[49m\u001b[38;5;241;43m.\u001b[39;49m\u001b[43mencoding\u001b[49m\u001b[43m,\u001b[49m\n\u001b[1;32m    706\u001b[0m \u001b[43m            \u001b[49m\u001b[43merrors\u001b[49m\u001b[38;5;241;43m=\u001b[39;49m\u001b[43merrors\u001b[49m\u001b[43m,\u001b[49m\n\u001b[1;32m    707\u001b[0m \u001b[43m            \u001b[49m\u001b[43mnewline\u001b[49m\u001b[38;5;241;43m=\u001b[39;49m\u001b[38;5;124;43m\"\u001b[39;49m\u001b[38;5;124;43m\"\u001b[39;49m\u001b[43m,\u001b[49m\n\u001b[1;32m    708\u001b[0m \u001b[43m        \u001b[49m\u001b[43m)\u001b[49m\n\u001b[1;32m    709\u001b[0m     \u001b[38;5;28;01melse\u001b[39;00m:\n\u001b[1;32m    710\u001b[0m         \u001b[38;5;66;03m# Binary mode\u001b[39;00m\n\u001b[1;32m    711\u001b[0m         handle \u001b[38;5;241m=\u001b[39m \u001b[38;5;28mopen\u001b[39m(handle, ioargs\u001b[38;5;241m.\u001b[39mmode)\n",
            "\u001b[0;31mFileNotFoundError\u001b[0m: [Errno 44] No such file or directory: 'train.csv'"
          ],
          "output_type": "error"
        }
      ],
      "id": "6b981d68"
    },
    {
      "cell_type": "markdown",
      "source": "# Data quality assessment",
      "metadata": {},
      "id": "9b4320c6"
    },
    {
      "cell_type": "code",
      "source": "train.head(10)",
      "metadata": {},
      "execution_count": null,
      "outputs": [],
      "id": "e443ca82"
    },
    {
      "cell_type": "code",
      "source": "train.shape",
      "metadata": {},
      "execution_count": null,
      "outputs": [],
      "id": "45682e12-2bef-4de5-ae1d-816f461be14b"
    },
    {
      "cell_type": "code",
      "source": "train.describe()\n",
      "metadata": {},
      "execution_count": null,
      "outputs": [],
      "id": "f429b18c-c4ff-4c24-bbc7-0b6712c430d5"
    },
    {
      "cell_type": "code",
      "source": "train.describe(include=['O'])",
      "metadata": {},
      "execution_count": null,
      "outputs": [],
      "id": "9067ca0e-c7b0-46ea-9dca-a9f1d205b6a4"
    },
    {
      "cell_type": "code",
      "source": "train.info()\n",
      "metadata": {},
      "execution_count": null,
      "outputs": [],
      "id": "ab68eae6-1723-467e-8224-88852ebb8df7"
    },
    {
      "cell_type": "code",
      "source": "train.isnull().sum()",
      "metadata": {},
      "execution_count": null,
      "outputs": [],
      "id": "a065fba1-e47b-49f8-82d4-9d82f7df5d0a"
    },
    {
      "cell_type": "code",
      "source": "test.shape",
      "metadata": {},
      "execution_count": null,
      "outputs": [],
      "id": "35198de4-c39f-4897-87d5-e099eb62d469"
    },
    {
      "cell_type": "code",
      "source": "test.head()",
      "metadata": {},
      "execution_count": null,
      "outputs": [],
      "id": "74e057af-0066-4ced-9201-6c8bce60509d"
    },
    {
      "cell_type": "code",
      "source": "test.info()\ntest.isnull().sum()",
      "metadata": {},
      "execution_count": null,
      "outputs": [],
      "id": "f6a360fb-2c9c-4b24-8ccf-22664c7f6f8e"
    },
    {
      "cell_type": "markdown",
      "source": "# Data exploration",
      "metadata": {},
      "id": "5408eca5"
    },
    {
      "cell_type": "code",
      "source": "survived = train[train['Survived'] == 1]\nnot_survived = train[train['Survived'] == 0]\n\nprint (\"Survived: %i (%.1f%%)\"%(len(survived), float(len(survived))/len(train)*100.0))\nprint (\"Not Survived: %i (%.1f%%)\"%(len(not_survived), float(len(not_survived))/len(train)*100.0))\nprint (\"Total: %i\"%len(train))",
      "metadata": {},
      "execution_count": null,
      "outputs": [],
      "id": "2417286d"
    },
    {
      "cell_type": "code",
      "source": "train.Pclass.value_counts()",
      "metadata": {},
      "execution_count": null,
      "outputs": [],
      "id": "7595f034-03e1-4dcf-a6b3-0abb457ba16c"
    },
    {
      "cell_type": "code",
      "source": "train.groupy('Pclass').Survived.value_counts()",
      "metadata": {},
      "execution_count": null,
      "outputs": [],
      "id": "6d13e3e5-304a-489c-bc9b-5877a53c4ab4"
    },
    {
      "cell_type": "code",
      "source": "train[['Pclass', 'Survived']].groupby(['Pclass'], as_index=False).mean()\n",
      "metadata": {},
      "execution_count": null,
      "outputs": [],
      "id": "474f6723-0424-4a6b-890c-44e47ca379ca"
    },
    {
      "cell_type": "code",
      "source": "sns.barplot(x='Pclass', y='Survived', data=train)\n",
      "metadata": {},
      "execution_count": null,
      "outputs": [],
      "id": "225906f7-9271-43fc-b068-d17715d03521"
    },
    {
      "cell_type": "code",
      "source": "train.Sex.value_counts()\n",
      "metadata": {},
      "execution_count": null,
      "outputs": [],
      "id": "5261417e-d025-4814-9c00-e4840517214a"
    },
    {
      "cell_type": "code",
      "source": "train.groupby('Sex').Survived.value_counts()\n",
      "metadata": {},
      "execution_count": null,
      "outputs": [],
      "id": "f0b00715-68e4-4f0b-bc15-2c971a5ec51d"
    },
    {
      "cell_type": "code",
      "source": "train[['Sex', 'Survived']].groupby(['Sex'], as_index=False).mean()\n",
      "metadata": {},
      "execution_count": null,
      "outputs": [],
      "id": "b4c496a1-afa4-465b-beb6-d6328548817b"
    },
    {
      "cell_type": "code",
      "source": "sns.barplot(x='Sex', y='Survived', data=train)\n",
      "metadata": {},
      "execution_count": null,
      "outputs": [],
      "id": "0fd2aac1-eb21-4b74-98cd-588d7941a544"
    },
    {
      "cell_type": "code",
      "source": "tab = pd.crosstab(train['Pclass'], train['Sex'])\nprint (tab)\n\ntab.div(tab.sum(1).astype(float), axis=0).plot(kind=\"bar\", stacked=True)\nplt.xlabel('Pclass')\nplt.ylabel('Percentage')",
      "metadata": {},
      "execution_count": null,
      "outputs": [],
      "id": "635d3947-166b-47da-8ba0-d20ea720e6b8"
    },
    {
      "cell_type": "code",
      "source": "sns.factorplot('Sex', 'Survived', hue='Pclass', size=4, aspect=2, data=train)\n",
      "metadata": {},
      "execution_count": null,
      "outputs": [],
      "id": "3525b31d-7ed6-4449-89bb-66da41a540d3"
    },
    {
      "cell_type": "code",
      "source": "sns.factorplot(x='Pclass', y='Survived', hue='Sex', col='Embarked', data=train)\n",
      "metadata": {},
      "execution_count": null,
      "outputs": [],
      "id": "02675f3f-17e6-4ce7-933e-5e339ed02f77"
    },
    {
      "cell_type": "code",
      "source": "train.Embarked.value_counts()\n",
      "metadata": {},
      "execution_count": null,
      "outputs": [],
      "id": "901d43de-b933-44ff-bd80-b9e5c5752f25"
    },
    {
      "cell_type": "code",
      "source": "train.groupby('Embarked').Survived.value_counts()\n",
      "metadata": {},
      "execution_count": null,
      "outputs": [],
      "id": "33e179dc-a7bc-4347-a3d7-42a209322122"
    },
    {
      "cell_type": "code",
      "source": "sns.barplot(x='Embarked', y='Survived', data=train)\n",
      "metadata": {},
      "execution_count": null,
      "outputs": [],
      "id": "69f07e23-de0c-407d-99a9-fead192bd201"
    },
    {
      "cell_type": "code",
      "source": "train.Parch.value_counts()\n",
      "metadata": {},
      "execution_count": null,
      "outputs": [],
      "id": "574c16a9-6745-4af1-adf3-9b1b4c1650b5"
    },
    {
      "cell_type": "code",
      "source": "train.groupby('Parch').Survived.value_counts()\n",
      "metadata": {},
      "execution_count": null,
      "outputs": [],
      "id": "a491d54f-62ce-4e85-a5e1-311dd275f13b"
    },
    {
      "cell_type": "code",
      "source": "train[['Parch', 'Survived']].groupby(['Parch'], as_index=False).mean()\n",
      "metadata": {},
      "execution_count": null,
      "outputs": [],
      "id": "158adafc-babc-4e08-9e42-b948a68e5e94"
    },
    {
      "cell_type": "code",
      "source": "sns.barplot(x='Parch', y='Survived', ci=None, data=train) # ci=None will hide the error bar\n",
      "metadata": {},
      "execution_count": null,
      "outputs": [],
      "id": "2bc2dca1-719c-4523-8526-eae5ad97dd15"
    },
    {
      "cell_type": "code",
      "source": "train.SibSp.value_counts()\n",
      "metadata": {},
      "execution_count": null,
      "outputs": [],
      "id": "55028f65-97b1-4d89-a56b-e72aa2c27a93"
    },
    {
      "cell_type": "code",
      "source": "train.groupby('SibSp').Survived.value_counts()\n",
      "metadata": {},
      "execution_count": null,
      "outputs": [],
      "id": "1c04e620-c7a3-480d-b8e0-20f1886206d3"
    },
    {
      "cell_type": "code",
      "source": "train[['SibSp', 'Survived']].groupby(['SibSp'], as_index=False).mean()\n",
      "metadata": {},
      "execution_count": null,
      "outputs": [],
      "id": "1eead0ca-fbd6-4b1a-9cc4-672c51536816"
    },
    {
      "cell_type": "code",
      "source": "sns.barplot(x='SibSp', y='Survived', ci=None, data=train) # ci=None will hide the error bar\n",
      "metadata": {},
      "execution_count": null,
      "outputs": [],
      "id": "524696b7-0c6e-4d17-803e-a28d1df6ff01"
    },
    {
      "cell_type": "code",
      "source": "fig = plt.figure(figsize=(15,5))\nax1 = fig.add_subplot(131)\nax2 = fig.add_subplot(132)\nax3 = fig.add_subplot(133)\n\nsns.violinplot(x=\"Embarked\", y=\"Age\", hue=\"Survived\", data=train, split=True, ax=ax1)\nsns.violinplot(x=\"Pclass\", y=\"Age\", hue=\"Survived\", data=train, split=True, ax=ax2)\nsns.violinplot(x=\"Sex\", y=\"Age\", hue=\"Survived\", data=train, split=True, ax=ax3)",
      "metadata": {},
      "execution_count": null,
      "outputs": [],
      "id": "ff48d489-2d00-428c-bc68-a77f8fe0d4cb"
    },
    {
      "cell_type": "code",
      "source": "total_survived = train[train['Survived']==1]\ntotal_not_survived = train[train['Survived']==0]\nmale_survived = train[(train['Survived']==1) & (train['Sex']==\"male\")]\nfemale_survived = train[(train['Survived']==1) & (train['Sex']==\"female\")]\nmale_not_survived = train[(train['Survived']==0) & (train['Sex']==\"male\")]\nfemale_not_survived = train[(train['Survived']==0) & (train['Sex']==\"female\")]\n\nplt.figure(figsize=[15,5])\nplt.subplot(111)\nsns.distplot(total_survived['Age'].dropna().values, bins=range(0, 81, 1), kde=False, color='blue')\nsns.distplot(total_not_survived['Age'].dropna().values, bins=range(0, 81, 1), kde=False, color='red', axlabel='Age')\n\nplt.figure(figsize=[15,5])\n\nplt.subplot(121)\nsns.distplot(female_survived['Age'].dropna().values, bins=range(0, 81, 1), kde=False, color='blue')\nsns.distplot(female_not_survived['Age'].dropna().values, bins=range(0, 81, 1), kde=False, color='red', axlabel='Female Age')\n\nplt.subplot(122)\nsns.distplot(male_survived['Age'].dropna().values, bins=range(0, 81, 1), kde=False, color='blue')\nsns.distplot(male_not_survived['Age'].dropna().values, bins=range(0, 81, 1), kde=False, color='red', axlabel='Male Age')",
      "metadata": {},
      "execution_count": null,
      "outputs": [],
      "id": "6cce48ef-2aa2-4004-b677-eae88cd2391d"
    },
    {
      "cell_type": "code",
      "source": "plt.figure(figsize=(15,6))\nsns.heatmap(train.drop('PassengerId',axis=1).corr(), vmax=0.6, square=True, annot=True)",
      "metadata": {},
      "execution_count": null,
      "outputs": [],
      "id": "a517f701-55fd-49fd-9cf0-1bca9b9e8e9c"
    },
    {
      "cell_type": "code",
      "source": "train_test_data = [train, test] # combining train and test dataset\n\nfor dataset in train_test_data:\n    dataset['Title'] = dataset.Name.str.extract(' ([A-Za-z]+)\\.')",
      "metadata": {},
      "execution_count": null,
      "outputs": [],
      "id": "d3bf7fcf-6907-40f1-8e63-830ce4dcdca7"
    },
    {
      "cell_type": "code",
      "source": "train.head()\n",
      "metadata": {},
      "execution_count": null,
      "outputs": [],
      "id": "eec17ed6-858f-4a87-a060-7854f0087bde"
    },
    {
      "cell_type": "code",
      "source": "pd.crosstab(train['Title'], train['Sex'])\n",
      "metadata": {},
      "execution_count": null,
      "outputs": [],
      "id": "c13e853d-dfb1-48c8-bb09-afb7eaa04cab"
    },
    {
      "cell_type": "code",
      "source": "for dataset in train_test_data:\n    dataset['Title'] = dataset['Title'].replace(['Lady', 'Countess','Capt', 'Col', \\\n        'Don', 'Dr', 'Major', 'Rev', 'Sir', 'Jonkheer', 'Dona'], 'Other')\n\n    dataset['Title'] = dataset['Title'].replace('Mlle', 'Miss')\n    dataset['Title'] = dataset['Title'].replace('Ms', 'Miss')\n    dataset['Title'] = dataset['Title'].replace('Mme', 'Mrs')\n    \ntrain[['Title', 'Survived']].groupby(['Title'], as_index=False).mean()",
      "metadata": {},
      "execution_count": null,
      "outputs": [],
      "id": "93fbed2e-4827-4cef-93c6-f95c4a3caad5"
    },
    {
      "cell_type": "code",
      "source": "title_mapping = {\"Mr\": 1, \"Miss\": 2, \"Mrs\": 3, \"Master\": 4, \"Other\": 5}\nfor dataset in train_test_data:\n    dataset['Title'] = dataset['Title'].map(title_mapping)\n    dataset['Title'] = dataset['Title'].fillna(0)",
      "metadata": {},
      "execution_count": null,
      "outputs": [],
      "id": "21047fe4-9b2a-4af0-ba60-c818cb606483"
    },
    {
      "cell_type": "code",
      "source": "train.head()\n",
      "metadata": {},
      "execution_count": null,
      "outputs": [],
      "id": "ae389c9d-717f-4f3a-aaf2-0a2dff191e46"
    },
    {
      "cell_type": "code",
      "source": "for dataset in train_test_data:\n    dataset['Sex'] = dataset['Sex'].map( {'female': 1, 'male': 0} ).astype(int)",
      "metadata": {},
      "execution_count": null,
      "outputs": [],
      "id": "ade59e87-3600-4e28-a734-33e99d67169d"
    },
    {
      "cell_type": "code",
      "source": "train.head()",
      "metadata": {},
      "execution_count": null,
      "outputs": [],
      "id": "70110b58-35a4-4fcb-a755-ab3b20ccec5c"
    },
    {
      "cell_type": "code",
      "source": "train.Embarked.unique()",
      "metadata": {},
      "execution_count": null,
      "outputs": [],
      "id": "9750290e-a38e-4081-aeea-26f35feb9764"
    },
    {
      "cell_type": "code",
      "source": "train.Embarked.value_counts()",
      "metadata": {},
      "execution_count": null,
      "outputs": [],
      "id": "2bbdbcdf-c07c-4975-8b01-ecd492bc148a"
    },
    {
      "cell_type": "code",
      "source": "for dataset in train_test_data:\n    dataset['Embarked'] = dataset['Embarked'].fillna('S')",
      "metadata": {},
      "execution_count": null,
      "outputs": [],
      "id": "90f07f42-aec8-41b7-9604-ed888be7a279"
    },
    {
      "cell_type": "code",
      "source": "train.head()",
      "metadata": {},
      "execution_count": null,
      "outputs": [],
      "id": "49945788-592a-4072-82db-c08f9dde2b45"
    },
    {
      "cell_type": "code",
      "source": "for dataset in train_test_data:\n    #print(dataset.Embarked.unique())\n    dataset['Embarked'] = dataset['Embarked'].map( {'S': 0, 'C': 1, 'Q': 2} ).astype(int)",
      "metadata": {},
      "execution_count": null,
      "outputs": [],
      "id": "6ad7228b-660f-44ef-8a40-22304aa0c930"
    },
    {
      "cell_type": "code",
      "source": "train.head()\n",
      "metadata": {},
      "execution_count": null,
      "outputs": [],
      "id": "a2d674e6-a267-4d13-b3dd-210878b1fbd6"
    },
    {
      "cell_type": "code",
      "source": "for dataset in train_test_data:\n    age_avg = dataset['Age'].mean()\n    age_std = dataset['Age'].std()\n    age_null_count = dataset['Age'].isnull().sum()\n    \n    age_null_random_list = np.random.randint(age_avg - age_std, age_avg + age_std, size=age_null_count)\n    dataset['Age'][np.isnan(dataset['Age'])] = age_null_random_list\n    dataset['Age'] = dataset['Age'].astype(int)\n    \ntrain['AgeBand'] = pd.cut(train['Age'], 5)\n\nprint (train[['AgeBand', 'Survived']].groupby(['AgeBand'], as_index=False).mean())",
      "metadata": {},
      "execution_count": null,
      "outputs": [],
      "id": "86a81f61-2dc1-4e09-9794-f28eb1aa9b0b"
    },
    {
      "cell_type": "code",
      "source": "train.head()\n",
      "metadata": {},
      "execution_count": null,
      "outputs": [],
      "id": "35f2f94c-1542-427a-b6c2-215a354639a9"
    },
    {
      "cell_type": "code",
      "source": "for dataset in train_test_data:\n    dataset.loc[ dataset['Age'] <= 16, 'Age'] = 0\n    dataset.loc[(dataset['Age'] > 16) & (dataset['Age'] <= 32), 'Age'] = 1\n    dataset.loc[(dataset['Age'] > 32) & (dataset['Age'] <= 48), 'Age'] = 2\n    dataset.loc[(dataset['Age'] > 48) & (dataset['Age'] <= 64), 'Age'] = 3\n    dataset.loc[ dataset['Age'] > 64, 'Age'] = 4\n    \ntrain.head()",
      "metadata": {},
      "execution_count": null,
      "outputs": [],
      "id": "6b02158d-6d64-48a2-b6dd-5850f123d71c"
    },
    {
      "cell_type": "code",
      "source": "for dataset in train_test_data:\n    dataset['Fare'] = dataset['Fare'].fillna(train['Fare'].median())",
      "metadata": {},
      "execution_count": null,
      "outputs": [],
      "id": "ea7cea7f-6bb1-43da-9178-f1543e6515cf"
    },
    {
      "cell_type": "code",
      "source": "train['FareBand'] = pd.qcut(train['Fare'], 4)\nprint (train[['FareBand', 'Survived']].groupby(['FareBand'], as_index=False).mean())",
      "metadata": {},
      "execution_count": null,
      "outputs": [],
      "id": "6e5c914a-a7e7-48f5-9f29-bccf30782212"
    },
    {
      "cell_type": "code",
      "source": "train.head()\n",
      "metadata": {},
      "execution_count": null,
      "outputs": [],
      "id": "430cc2aa-51da-494a-b67b-f0dce3fea56e"
    },
    {
      "cell_type": "code",
      "source": "for dataset in train_test_data:\n    dataset.loc[ dataset['Fare'] <= 7.91, 'Fare'] = 0\n    dataset.loc[(dataset['Fare'] > 7.91) & (dataset['Fare'] <= 14.454), 'Fare'] = 1\n    dataset.loc[(dataset['Fare'] > 14.454) & (dataset['Fare'] <= 31), 'Fare']   = 2\n    dataset.loc[ dataset['Fare'] > 31, 'Fare'] = 3\n    dataset['Fare'] = dataset['Fare'].astype(int)\n    \ntrain.head()",
      "metadata": {},
      "execution_count": null,
      "outputs": [],
      "id": "136a03cf-52ea-4e22-881f-b84a83472977"
    },
    {
      "cell_type": "code",
      "source": "for dataset in train_test_data:\n    dataset['FamilySize'] = dataset['SibSp'] +  dataset['Parch'] + 1\n\nprint (train[['FamilySize', 'Survived']].groupby(['FamilySize'], as_index=False).mean())",
      "metadata": {},
      "execution_count": null,
      "outputs": [],
      "id": "91ce8118-8b0d-4614-aa41-4fd978f2bc61"
    },
    {
      "cell_type": "code",
      "source": "for dataset in train_test_data:\n    dataset['IsAlone'] = 0\n    dataset.loc[dataset['FamilySize'] == 1, 'IsAlone'] = 1\n    \nprint (train[['IsAlone', 'Survived']].groupby(['IsAlone'], as_index=False).mean())",
      "metadata": {},
      "execution_count": null,
      "outputs": [],
      "id": "f2a75a54-a820-4d32-b340-4c6c07b689c3"
    },
    {
      "cell_type": "code",
      "source": "train.head(1)\n",
      "metadata": {},
      "execution_count": null,
      "outputs": [],
      "id": "6a9d1d08-e1f1-4b82-93ab-06c1f2af04ae"
    },
    {
      "cell_type": "code",
      "source": "test.head(1)\n",
      "metadata": {},
      "execution_count": null,
      "outputs": [],
      "id": "5d5ac737-c084-467a-b199-ca4c2cad5c16"
    },
    {
      "cell_type": "code",
      "source": "features_drop = ['Name', 'SibSp', 'Parch', 'Ticket', 'Cabin', 'FamilySize']\ntrain = train.drop(features_drop, axis=1)\ntest = test.drop(features_drop, axis=1)\ntrain = train.drop(['PassengerId', 'AgeBand', 'FareBand'], axis=1)",
      "metadata": {},
      "execution_count": null,
      "outputs": [],
      "id": "ce684967-8ec5-4efe-b8a0-9adb1bdc0ea0"
    },
    {
      "cell_type": "code",
      "source": "train.head()\n",
      "metadata": {},
      "execution_count": null,
      "outputs": [],
      "id": "52ba8196-356b-42ff-80f8-c6fe442daa0b"
    },
    {
      "cell_type": "code",
      "source": "test.head()\n",
      "metadata": {},
      "execution_count": null,
      "outputs": [],
      "id": "2e5aac45-d292-4836-a84e-1203effdef48"
    },
    {
      "cell_type": "code",
      "source": "plt.figure(figsize=(15,6))\nsns.heatmap(train.corr(), vmax=0.6, square=True, annot=True)",
      "metadata": {},
      "execution_count": null,
      "outputs": [],
      "id": "88696966-42e3-4124-b6df-52def49fe916"
    },
    {
      "cell_type": "code",
      "source": "X_train = train.drop('Survived', axis=1)\ny_train = train['Survived']\n\nX_test = test.drop(\"PassengerId\", axis=1).copy()\n\nX_train.shape, y_train.shape, X_test.shape",
      "metadata": {},
      "execution_count": null,
      "outputs": [],
      "id": "7c6cc6d3-d6b2-416f-b461-d07b993c6e08"
    },
    {
      "cell_type": "code",
      "source": "from sklearn.linear_model import LogisticRegression\nfrom sklearn.svm import SVC, LinearSVC\nfrom sklearn.neighbors import KNeighborsClassifier\nfrom sklearn.tree import DecisionTreeClassifier\nfrom sklearn.ensemble import RandomForestClassifier\nfrom sklearn.naive_bayes import GaussianNB\nfrom sklearn.linear_model import Perceptron\nfrom sklearn.linear_model import SGDClassifier",
      "metadata": {},
      "execution_count": null,
      "outputs": [],
      "id": "12c73b50-b4c7-43cc-85c8-8c11ec40d948"
    },
    {
      "cell_type": "code",
      "source": "clf = LogisticRegression()\nclf.fit(X_train, y_train)\ny_pred_log_reg = clf.predict(X_test)\nacc_log_reg = round( clf.score(X_train, y_train) * 100, 2)\nprint (str(acc_log_reg) + ' percent')",
      "metadata": {},
      "execution_count": null,
      "outputs": [],
      "id": "c6c29a08-8beb-4c05-b76e-acf0a869bdd2"
    },
    {
      "cell_type": "code",
      "source": "clf = SVC()\nclf.fit(X_train, y_train)\ny_pred_svc = clf.predict(X_test)\nacc_svc = round(clf.score(X_train, y_train) * 100, 2)\nprint (acc_svc)",
      "metadata": {},
      "execution_count": null,
      "outputs": [],
      "id": "3839ade9-27ca-47a2-a5c8-139e399c9dc4"
    },
    {
      "cell_type": "code",
      "source": "clf = LinearSVC()\nclf.fit(X_train, y_train)\ny_pred_linear_svc = clf.predict(X_test)\nacc_linear_svc = round(clf.score(X_train, y_train) * 100, 2)\nprint (acc_linear_svc)",
      "metadata": {},
      "execution_count": null,
      "outputs": [],
      "id": "aa400ff7-5b52-4696-8dee-3bcceb851a9d"
    },
    {
      "cell_type": "code",
      "source": "clf = KNeighborsClassifier(n_neighbors = 3)\nclf.fit(X_train, y_train)\ny_pred_knn = clf.predict(X_test)\nacc_knn = round(clf.score(X_train, y_train) * 100, 2)\nprint (acc_knn)",
      "metadata": {},
      "execution_count": null,
      "outputs": [],
      "id": "2dd822bc-0a55-4e04-bd54-834f2c8ee86f"
    },
    {
      "cell_type": "code",
      "source": "clf = DecisionTreeClassifier()\nclf.fit(X_train, y_train)\ny_pred_decision_tree = clf.predict(X_test)\nacc_decision_tree = round(clf.score(X_train, y_train) * 100, 2)\nprint (acc_decision_tree)",
      "metadata": {},
      "execution_count": null,
      "outputs": [],
      "id": "051741ff-f2f6-4efb-8776-a1c7f2224c5c"
    },
    {
      "cell_type": "code",
      "source": "clf = RandomForestClassifier(n_estimators=100)\nclf.fit(X_train, y_train)\ny_pred_random_forest = clf.predict(X_test)\nacc_random_forest = round(clf.score(X_train, y_train) * 100, 2)\nprint (acc_random_forest)",
      "metadata": {},
      "execution_count": null,
      "outputs": [],
      "id": "57834756-4ee4-4f2c-8e07-8516ec469fa6"
    },
    {
      "cell_type": "code",
      "source": "clf = GaussianNB()\nclf.fit(X_train, y_train)\ny_pred_gnb = clf.predict(X_test)\nacc_gnb = round(clf.score(X_train, y_train) * 100, 2)\nprint (acc_gnb)",
      "metadata": {},
      "execution_count": null,
      "outputs": [],
      "id": "b7c4832d-60c8-4d4f-acfc-1b9f8ed93269"
    },
    {
      "cell_type": "code",
      "source": "clf = Perceptron(max_iter=5, tol=None)\nclf.fit(X_train, y_train)\ny_pred_perceptron = clf.predict(X_test)\nacc_perceptron = round(clf.score(X_train, y_train) * 100, 2)\nprint (acc_perceptron)",
      "metadata": {},
      "execution_count": null,
      "outputs": [],
      "id": "55cef20c-24d2-4773-8bac-ee551df3d7fc"
    },
    {
      "cell_type": "code",
      "source": "clf = SGDClassifier(max_iter=5, tol=None)\nclf.fit(X_train, y_train)\ny_pred_sgd = clf.predict(X_test)\nacc_sgd = round(clf.score(X_train, y_train) * 100, 2)\nprint (acc_sgd)",
      "metadata": {},
      "execution_count": null,
      "outputs": [],
      "id": "1228f1ad-07b6-4896-bfe8-7381e2d21b00"
    },
    {
      "cell_type": "code",
      "source": "from sklearn.metrics import confusion_matrix\nimport itertools\n\nclf = RandomForestClassifier(n_estimators=100)\nclf.fit(X_train, y_train)\ny_pred_random_forest_training_set = clf.predict(X_train)\nacc_random_forest = round(clf.score(X_train, y_train) * 100, 2)\nprint (\"Accuracy: %i %% \\n\"%acc_random_forest)\n\nclass_names = ['Survived', 'Not Survived']\n\n# Compute confusion matrix\ncnf_matrix = confusion_matrix(y_train, y_pred_random_forest_training_set)\n\ncnf_matrix_percent = cnf_matrix.astype('float') / cnf_matrix.sum(axis=1)[:, np.newaxis]\n\n\ntrue_class_names = ['True Survived', 'True Not Survived']\npredicted_class_names = ['Predicted Survived', 'Predicted Not Survived']\n\ndf_cnf_matrix = pd.DataFrame(cnf_matrix, \n                             index = true_class_names,\n                             columns = predicted_class_names)\ndf_cnf_matrix_percent = pd.DataFrame(cnf_matrix_percent, \n                                     index = true_class_names,\n                                     columns = predicted_class_names)\n\nplt.figure(figsize = (15,5))\n\nplt.subplot(121)\nsns.heatmap(df_cnf_matrix, annot=True, fmt='d')\n\nplt.subplot(122)\nsns.heatmap(df_cnf_matrix_percent, annot=True)",
      "metadata": {
        "trusted": true
      },
      "execution_count": 28,
      "outputs": [
        {
          "ename": "<class 'NameError'>",
          "evalue": "name 'X_train' is not defined",
          "traceback": [
            "\u001b[0;31m---------------------------------------------------------------------------\u001b[0m",
            "\u001b[0;31mNameError\u001b[0m                                 Traceback (most recent call last)",
            "Input \u001b[0;32mIn [28]\u001b[0m, in \u001b[0;36m<cell line: 5>\u001b[0;34m()\u001b[0m\n\u001b[1;32m      2\u001b[0m \u001b[38;5;28;01mimport\u001b[39;00m \u001b[38;5;21;01mitertools\u001b[39;00m\n\u001b[1;32m      4\u001b[0m clf \u001b[38;5;241m=\u001b[39m RandomForestClassifier(n_estimators\u001b[38;5;241m=\u001b[39m\u001b[38;5;241m100\u001b[39m)\n\u001b[0;32m----> 5\u001b[0m clf\u001b[38;5;241m.\u001b[39mfit(\u001b[43mX_train\u001b[49m, y_train)\n\u001b[1;32m      6\u001b[0m y_pred_random_forest_training_set \u001b[38;5;241m=\u001b[39m clf\u001b[38;5;241m.\u001b[39mpredict(X_train)\n\u001b[1;32m      7\u001b[0m acc_random_forest \u001b[38;5;241m=\u001b[39m \u001b[38;5;28mround\u001b[39m(clf\u001b[38;5;241m.\u001b[39mscore(X_train, y_train) \u001b[38;5;241m*\u001b[39m \u001b[38;5;241m100\u001b[39m, \u001b[38;5;241m2\u001b[39m)\n",
            "\u001b[0;31mNameError\u001b[0m: name 'X_train' is not defined"
          ],
          "output_type": "error"
        }
      ],
      "id": "5d8006a1-84ea-4b51-adb1-838e6d8cfa0c"
    },
    {
      "cell_type": "code",
      "source": "clf = Perceptron(max_iter=5, tol=None)\nclf.fit(X_train, y_train)\ny_pred_perceptron = clf.predict(X_train)\n\nacc_perceptron = round(clf.score(X_train, y_train) * 100, 2)\nprint (\"Accuracy: %i %% \\n\"%acc_perceptron)\n\n#class_names = ['Survived', 'Not Survived']\n\n# Compute confusion matrix\ncnf_matrix = confusion_matrix(y_train, y_pred_perceptron)\ncnf_matrix_percent = cnf_matrix.astype('float') / cnf_matrix.sum(axis=1)[:, np.newaxis]\n\n#true_class_names = ['True Survived', 'True Not Survived']\n#predicted_class_names = ['Predicted Survived', 'Predicted Not Survived']\n\ndf_cnf_matrix = pd.DataFrame(cnf_matrix, \n                             index = true_class_names,\n                             columns = predicted_class_names)\n\ndf_cnf_matrix_percent = pd.DataFrame(cnf_matrix_percent, \n                                     index = true_class_names,\n                                     columns = predicted_class_names)\n\nplt.figure(figsize = (15,5))\n\nax1 = plt.subplot(121)\nsns.heatmap(df_cnf_matrix, annot=True, fmt='d')\nax1.title.set_text('Perceptron: values')\n\nax2 = plt.subplot(122)\nsns.heatmap(df_cnf_matrix_percent, annot=True)\nax2.title.set_text('Perceptron: %')",
      "metadata": {},
      "execution_count": null,
      "outputs": [],
      "id": "c642a514-a746-4d14-9783-e89358d336fe"
    },
    {
      "cell_type": "code",
      "source": "models = pd.DataFrame({\n    'Model': ['Logistic Regression', 'Support Vector Machines', 'Linear SVC', \n              'KNN', 'Decision Tree', 'Random Forest', 'Naive Bayes', \n              'Perceptron', 'Stochastic Gradient Decent'],\n    \n    'Score': [acc_log_reg, acc_svc, acc_linear_svc, \n              acc_knn,  acc_decision_tree, acc_random_forest, acc_gnb, \n              acc_perceptron, acc_sgd]\n    })\n\nmodels.sort_values(by='Score', ascending=False)",
      "metadata": {},
      "execution_count": null,
      "outputs": [],
      "id": "3da483fe-403c-4918-990a-2b6c5e6043c3"
    },
    {
      "cell_type": "code",
      "source": "from sklearn.ensemble import VotingClassifier\n\n# 1. Dыбираем модели, включенные в голосование\nmodel1 = Perceptron(max_iter=5, tol=None)\nmodel2 = SGDClassifier(max_iter=5, tol=None)\nmodel3 = GaussianNB()\n\n# 2. Сам \"голосующий\" классификатор\nmodel = VotingClassifier(estimators=[('perceptron', model1), ('sdg', model2), ('nb', model3)], voting='hard')\nmodel.fit(X_train,y_train)\n\n# 3. Confusion Matrix\ny_pred_voter = model.predict(X_train)\nacc_voter = round(model.score(X_train, y_train) * 100, 2)\nprint (\"Accuracy: %i %% \\n\"%acc_voter)\n\n#class_names = ['Survived', 'Not Survived']\n\n# Compute confusion matrix\ncnf_matrix = confusion_matrix(y_train, y_pred_voter)\ncnf_matrix_percent = cnf_matrix.astype('float') / cnf_matrix.sum(axis=1)[:, np.newaxis]\n\n#true_class_names = ['True Survived', 'True Not Survived']\n#predicted_class_names = ['Predicted Survived', 'Predicted Not Survived']\ndf_cnf_matrix = pd.DataFrame(cnf_matrix, \n                             index = true_class_names,\n                             columns = predicted_class_names)\n\ndf_cnf_matrix_percent = pd.DataFrame(cnf_matrix_percent, \n                                     index = true_class_names,\n                                     columns = predicted_class_names)\n\nplt.figure(figsize = (15,5))\n\nax1 = plt.subplot(121)\nsns.heatmap(df_cnf_matrix, annot=True, fmt='d')\nax1.title.set_text('Voting: values')\n\nax2 = plt.subplot(122)\nsns.heatmap(df_cnf_matrix_percent, annot=True)\nax2.title.set_text('Voting: %')\n",
      "metadata": {},
      "execution_count": null,
      "outputs": [],
      "id": "404eb278-e803-4bae-9acc-c645f2494fcf"
    },
    {
      "cell_type": "markdown",
      "source": "# Summary",
      "metadata": {},
      "id": "034945c8"
    },
    {
      "cell_type": "code",
      "source": "test.head()\n",
      "metadata": {},
      "execution_count": null,
      "outputs": [],
      "id": "72e3fb13"
    },
    {
      "cell_type": "code",
      "source": "submission = pd.DataFrame({\n        \"PassengerId\": test[\"PassengerId\"],\n        \"Survived\": y_pred_random_forest\n    })\n\n# submission.to_csv('submission.csv', index=False)",
      "metadata": {},
      "execution_count": null,
      "outputs": [],
      "id": "4e97d96a-6134-4907-9c41-68dfc76f7990"
    }
  ]
}